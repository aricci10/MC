{
 "metadata": {
  "name": "",
  "signature": "sha256:6fc2b5fe87e74940c3b5472d6fd8f73eb27d266da389a860676952a0e58f1ae8"
 },
 "nbformat": 3,
 "nbformat_minor": 0,
 "worksheets": [
  {
   "cells": [
    {
     "cell_type": "code",
     "collapsed": false,
     "input": [
      "import numpy as np\n",
      "import matplotlib as mpl\n",
      "import matplotlib.pyplot as plt\n",
      "import os\n",
      "%matplotlib inline"
     ],
     "language": "python",
     "metadata": {},
     "outputs": [],
     "prompt_number": 7
    },
    {
     "cell_type": "code",
     "collapsed": false,
     "input": [
      "tmin=0\n",
      "tmax=.003105882\n",
      "xmin=-0.33  # en metros\n",
      "xmax=0.33   # en metros\n",
      "Nt=1000\n",
      "Nl=100\n",
      "dt=(tmax-tmin)/Nt\n",
      "dx=(xmax-xmin)/Nl\n",
      "v=425. # m/s\n",
      "r=v*dt/dx\n",
      "print (\"r=\",r)"
     ],
     "language": "python",
     "metadata": {},
     "outputs": [
      {
       "output_type": "stream",
       "stream": "stdout",
       "text": [
        "r= 0.1999999772727273\n"
       ]
      }
     ],
     "prompt_number": 11
    },
    {
     "cell_type": "code",
     "collapsed": false,
     "input": [
      "#fija en los extremos\n",
      "xcoords=np.linspace(xmin,xmax,Nl)\n",
      "tcoords=np.linspace(tmin,tmax,Nt)\n",
      "chord=np.zeros((Nt,Nl))\n",
      "# fijar la condici\u00f3n inicial\n",
      "std=0.05\n",
      "chord[0]=0.01*np.cos(xcoords*np.pi/0.66)\n",
      "chord[0,0]=0\n",
      "chord[0,-1]=0\n",
      "chord[1]=chord[0]+r**2/2.*(np.roll(chord[0],1)+np.roll(chord[0],-1)-2*chord[0])\n",
      "plt.figure(figsize=(10,3))\n",
      "plt.plot(xcoords,chord[0])\n",
      "plt.show()\n",
      "for i in range(2,Nt):\n",
      "    ppchord=chord[i-2]\n",
      "    pchord=chord[i-1]\n",
      "    chord[i]=2*(1-r**2)*pchord-ppchord+r**2*(np.roll(pchord,1)+np.roll(pchord,-1))\n",
      "    chord[i,0]=0\n",
      "    chord[i,-1]=0\n",
      "plt.figure(figsize=(10,10))\n",
      "plt.pcolor(xcoords,tcoords,chord,cmap='gist_heat')\n",
      "plt.xlim(xmin,xmax)\n",
      "plt.ylim(-0.1,0.1)\n",
      "plt.show()"
     ],
     "language": "python",
     "metadata": {},
     "outputs": [],
     "prompt_number": 38
    },
    {
     "cell_type": "code",
     "collapsed": false,
     "input": [
      "%matplotlib osx\n",
      "from matplotlib import animation\n",
      "\n",
      "fig=plt.figure(figsize=(12,1))\n",
      "ax = fig.add_subplot(111, autoscale_on=False)\n",
      "chordplot,=ax.plot([],[],\"o\",ms=2)\n",
      "plt.xlim(xmin,xmax)\n",
      "plt.ylim(-0.01,0.01)\n",
      "\n",
      "time_template = 't = %.2f'\n",
      "time_text = ax.text(0.5, 0.8, 'nada',transform=ax.transAxes)\n",
      "\n",
      "def animate(i):\n",
      "    chordplot.set_data(xcoords,chord[3*i])\n",
      "    time_text.set_text(time_template%(i*dt*1000)+\"ms\")\n",
      "    return chordplot,time_text\n",
      "\n",
      "animacion = animation.FuncAnimation(fig, animate, np.arange(1,len(chord)/3),interval=1, blit=False)\n",
      "animacion.save(\"prueba1.mp4\")\n",
      "plt.show()"
     ],
     "language": "python",
     "metadata": {},
     "outputs": [],
     "prompt_number": 39
    },
    {
     "cell_type": "code",
     "collapsed": false,
     "input": [],
     "language": "python",
     "metadata": {},
     "outputs": []
    }
   ],
   "metadata": {}
  }
 ]
}