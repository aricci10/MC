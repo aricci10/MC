{
 "metadata": {
  "name": "",
  "signature": "sha256:12ac2543fbe4fe62726c3adb511e59b4321dd9edc3f37bf85293c3c48eab5d4a"
 },
 "nbformat": 3,
 "nbformat_minor": 0,
 "worksheets": [
  {
   "cells": [
    {
     "cell_type": "code",
     "collapsed": false,
     "input": [
      "%pylab inline"
     ],
     "language": "python",
     "metadata": {},
     "outputs": [
      {
       "output_type": "stream",
       "stream": "stdout",
       "text": [
        "Populating the interactive namespace from numpy and matplotlib\n"
       ]
      }
     ],
     "prompt_number": 1
    },
    {
     "cell_type": "markdown",
     "metadata": {},
     "source": [
      "$\\frac{\\partial \\psi}{\\partial t}=\\frac{\\psi(t+\\Delta t,x,y)-\\psi(t-\\Delta t,x,y)}{2 \\Delta t}$\n",
      "$\\frac{\\partial^2 \\psi}{\\partial t^2}=\\frac{\\psi(t+\\Delta t,x,y)-2\\psi(t,x,y)+\\psi(t-\\Delta t,x,y)}{(\\Delta t)^2}$\n",
      "$\\frac{\\partial^2 \\psi}{\\partial x^2}=\\frac{\\psi(t,x+\\Delta x,y)-2\\psi(t,x,y)+\\psi(t,x-\\Delta x,y)}{(\\Delta x)^2}$"
     ]
    },
    {
     "cell_type": "markdown",
     "metadata": {},
     "source": [
      "$\\frac{\\partial^2 \\psi}{\\partial x^2}+\\frac{\\partial^2 \\psi}{\\partial y^2}+2\\eta\\frac{\\partial \\psi}{\\partial t}=\\frac{1}{v^2}\\frac{\\partial^2 \\psi}{\\partial t^2}$"
     ]
    },
    {
     "cell_type": "markdown",
     "metadata": {},
     "source": [
      "$\\frac{\\psi^n_{i+1\\cdot j}-2\\psi^n_{i\\cdot j}+\\psi^n_{i-1\\cdot j}}{(\\Delta x)^2}+\\frac{\\psi^n_{i\\cdot j+1}-2\\psi^n_{i\\cdot j}+\\psi^n_{i\\cdot j-1}}{(\\Delta y)^2}+2\\eta\\frac{\\psi^{n+1}_{i\\cdot j}+\\psi^{n-1}_{i\\cdot j}}{\\Delta t}=\\frac{\\psi^{n+1}_{i\\cdot j}-2\\psi^{n}_{i\\cdot j}+\\psi^{n-1}_{i\\cdot j}}{(\\Delta t v)^2}$"
     ]
    },
    {
     "cell_type": "markdown",
     "metadata": {},
     "source": [
      "$\\frac{\\psi^n_{i+1\\cdot j}-2\\psi^n_{i\\cdot j}+\\psi^n_{i-1\\cdot j}}{(\\Delta x)^2}+\\frac{\\psi^n_{i\\cdot j+1}-2\\psi^n_{i\\cdot j}+\\psi^n_{i\\cdot j-1}}{(\\Delta y)^2}+2\\eta\\frac{\\psi^{n-1}_{i\\cdot j}}{\\Delta t}+\\frac{-2\\psi^{n}_{i\\cdot j}+\\psi^{n-1}_{i\\cdot j}}{(\\Delta t v)^2}=\\frac{\\psi^{n+1}_{i\\cdot j}}{(\\Delta t v)^2}-2\\eta\\frac{\\psi^{n+1}_{i\\cdot j}}{\\Delta t}$"
     ]
    },
    {
     "cell_type": "markdown",
     "metadata": {},
     "source": [
      "$(\\Delta t)^3v^2\\frac{\\frac{\\psi^n_{i+1\\cdot j}-2\\psi^n_{i\\cdot j}+\\psi^n_{i-1\\cdot j}}{(\\Delta x)^2}+\\frac{\\psi^n_{i\\cdot j+1}-2\\psi^n_{i\\cdot j}+\\psi^n_{i\\cdot j-1}}{(\\Delta y)^2}+2\\eta\\frac{\\psi^{n-1}_{i\\cdot j}}{\\Delta t}+\\frac{-2\\psi^{n}_{i\\cdot j}+\\psi^{n-1}_{i\\cdot j}}{(\\Delta t v)^2}}{\\Delta t - 2\\eta(\\Delta t v)^2}=\\psi^{n+1}_{i\\cdot j}$"
     ]
    },
    {
     "cell_type": "code",
     "collapsed": false,
     "input": [
      "xmin=-0.5\n",
      "xmax=0.5\n",
      "ymin=-0.5\n",
      "ymax=0.5\n",
      "Nt=(tmax-tmin)/dt\n",
      "Nl=(xmax-xmin)/dx\n",
      "dt=1.5e-5\n",
      "dx=1.0e-2\n",
      "v=400.\n",
      "eta=0.01\n",
      "r=v*dt/dx"
     ],
     "language": "python",
     "metadata": {},
     "outputs": [
      {
       "ename": "NameError",
       "evalue": "name 'tmax' is not defined",
       "output_type": "pyerr",
       "traceback": [
        "\u001b[0;31m---------------------------------------------------------------------------\u001b[0m\n\u001b[0;31mNameError\u001b[0m                                 Traceback (most recent call last)",
        "\u001b[0;32m<ipython-input-5-b922739c3b2b>\u001b[0m in \u001b[0;36m<module>\u001b[0;34m()\u001b[0m\n\u001b[1;32m      3\u001b[0m \u001b[0mymin\u001b[0m\u001b[0;34m=\u001b[0m\u001b[0;34m-\u001b[0m\u001b[0;36m0.5\u001b[0m\u001b[0;34m\u001b[0m\u001b[0m\n\u001b[1;32m      4\u001b[0m \u001b[0mymax\u001b[0m\u001b[0;34m=\u001b[0m\u001b[0;36m0.5\u001b[0m\u001b[0;34m\u001b[0m\u001b[0m\n\u001b[0;32m----> 5\u001b[0;31m \u001b[0mNt\u001b[0m\u001b[0;34m=\u001b[0m\u001b[0;34m(\u001b[0m\u001b[0mtmax\u001b[0m\u001b[0;34m-\u001b[0m\u001b[0mtmin\u001b[0m\u001b[0;34m)\u001b[0m\u001b[0;34m/\u001b[0m\u001b[0mdt\u001b[0m\u001b[0;34m\u001b[0m\u001b[0m\n\u001b[0m\u001b[1;32m      6\u001b[0m \u001b[0mNl\u001b[0m\u001b[0;34m=\u001b[0m\u001b[0;34m(\u001b[0m\u001b[0mxmax\u001b[0m\u001b[0;34m-\u001b[0m\u001b[0mxmin\u001b[0m\u001b[0;34m)\u001b[0m\u001b[0;34m/\u001b[0m\u001b[0mdx\u001b[0m\u001b[0;34m\u001b[0m\u001b[0m\n\u001b[1;32m      7\u001b[0m \u001b[0mdt\u001b[0m\u001b[0;34m=\u001b[0m\u001b[0;36m1.5e-5\u001b[0m\u001b[0;34m\u001b[0m\u001b[0m\n",
        "\u001b[0;31mNameError\u001b[0m: name 'tmax' is not defined"
       ]
      }
     ],
     "prompt_number": 5
    },
    {
     "cell_type": "code",
     "collapsed": false,
     "input": [
      "xcoords=np.linspace(xmin,xmax,Nl)\n",
      "tcoords=np.linspace(tmin,tmax,Nt)\n",
      "chord=np.zeros((Nt,Nl))"
     ],
     "language": "python",
     "metadata": {},
     "outputs": [
      {
       "ename": "NameError",
       "evalue": "name 'Nl' is not defined",
       "output_type": "pyerr",
       "traceback": [
        "\u001b[0;31m---------------------------------------------------------------------------\u001b[0m\n\u001b[0;31mNameError\u001b[0m                                 Traceback (most recent call last)",
        "\u001b[0;32m<ipython-input-6-e0e9af2f6986>\u001b[0m in \u001b[0;36m<module>\u001b[0;34m()\u001b[0m\n\u001b[0;32m----> 1\u001b[0;31m \u001b[0mxcoords\u001b[0m\u001b[0;34m=\u001b[0m\u001b[0mnp\u001b[0m\u001b[0;34m.\u001b[0m\u001b[0mlinspace\u001b[0m\u001b[0;34m(\u001b[0m\u001b[0mxmin\u001b[0m\u001b[0;34m,\u001b[0m\u001b[0mxmax\u001b[0m\u001b[0;34m,\u001b[0m\u001b[0mNl\u001b[0m\u001b[0;34m)\u001b[0m\u001b[0;34m\u001b[0m\u001b[0m\n\u001b[0m\u001b[1;32m      2\u001b[0m \u001b[0mtcoords\u001b[0m\u001b[0;34m=\u001b[0m\u001b[0mnp\u001b[0m\u001b[0;34m.\u001b[0m\u001b[0mlinspace\u001b[0m\u001b[0;34m(\u001b[0m\u001b[0mtmin\u001b[0m\u001b[0;34m,\u001b[0m\u001b[0mtmax\u001b[0m\u001b[0;34m,\u001b[0m\u001b[0mNt\u001b[0m\u001b[0;34m)\u001b[0m\u001b[0;34m\u001b[0m\u001b[0m\n\u001b[1;32m      3\u001b[0m \u001b[0mchord\u001b[0m\u001b[0;34m=\u001b[0m\u001b[0mnp\u001b[0m\u001b[0;34m.\u001b[0m\u001b[0mzeros\u001b[0m\u001b[0;34m(\u001b[0m\u001b[0;34m(\u001b[0m\u001b[0mNt\u001b[0m\u001b[0;34m,\u001b[0m\u001b[0mNl\u001b[0m\u001b[0;34m)\u001b[0m\u001b[0;34m)\u001b[0m\u001b[0;34m\u001b[0m\u001b[0m\n",
        "\u001b[0;31mNameError\u001b[0m: name 'Nl' is not defined"
       ]
      }
     ],
     "prompt_number": 6
    },
    {
     "cell_type": "code",
     "collapsed": false,
     "input": [
      "from sympy import *\n",
      "k,g,gam,h,ro= symbols('k g gam h ro')\n",
      "init_printing(use_unicode=True)\n",
      "simplify(diff(sqrt((g*k+(gam/g)*k**3)*tanh(k*h)),k))"
     ],
     "language": "python",
     "metadata": {},
     "outputs": [
      {
       "latex": [
        "$$- \\frac{\\sqrt{\\frac{k}{g} \\left(g^{2} + gam k^{2}\\right) \\tanh{\\left (h k \\right )}}}{2 k \\left(g^{2} + gam k^{2}\\right) \\tanh{\\left (h k \\right )}} \\left(h k \\left(g^{2} + gam k^{2}\\right) \\left(\\tanh^{2}{\\left (h k \\right )} - 1\\right) - \\left(g^{2} + 3 gam k^{2}\\right) \\tanh{\\left (h k \\right )}\\right)$$"
       ],
       "metadata": {},
       "output_type": "pyout",
       "png": "[encoded data removed]",
       "prompt_number": 24,
       "text": [
        "      ___________________________                                             \n",
        "     \u2571   \u239b 2        2\u239e                                                        \n",
        "    \u2571  k\u22c5\u239dg  + gam\u22c5k \u23a0\u22c5tanh(h\u22c5k)  \u239b    \u239b 2        2\u239e \u239b    2         \u239e   \u239b 2   \n",
        "-  \u2571   \u2500\u2500\u2500\u2500\u2500\u2500\u2500\u2500\u2500\u2500\u2500\u2500\u2500\u2500\u2500\u2500\u2500\u2500\u2500\u2500\u2500\u2500\u2500\u2500\u2500 \u22c5\u239dh\u22c5k\u22c5\u239dg  + gam\u22c5k \u23a0\u22c5\u239dtanh (h\u22c5k) - 1\u23a0 - \u239dg  + \n",
        " \u2572\u2571                g                                                          \n",
        "\u2500\u2500\u2500\u2500\u2500\u2500\u2500\u2500\u2500\u2500\u2500\u2500\u2500\u2500\u2500\u2500\u2500\u2500\u2500\u2500\u2500\u2500\u2500\u2500\u2500\u2500\u2500\u2500\u2500\u2500\u2500\u2500\u2500\u2500\u2500\u2500\u2500\u2500\u2500\u2500\u2500\u2500\u2500\u2500\u2500\u2500\u2500\u2500\u2500\u2500\u2500\u2500\u2500\u2500\u2500\u2500\u2500\u2500\u2500\u2500\u2500\u2500\u2500\u2500\u2500\u2500\u2500\u2500\u2500\u2500\u2500\u2500\u2500\u2500\u2500\u2500\u2500\u2500\n",
        "                                        \u239b 2        2\u239e                         \n",
        "                                    2\u22c5k\u22c5\u239dg  + gam\u22c5k \u23a0\u22c5tanh(h\u22c5k)               \n",
        "\n",
        "                     \n",
        "                     \n",
        "       2\u239e          \u239e \n",
        "3\u22c5gam\u22c5k \u23a0\u22c5tanh(h\u22c5k)\u23a0 \n",
        "                     \n",
        "\u2500\u2500\u2500\u2500\u2500\u2500\u2500\u2500\u2500\u2500\u2500\u2500\u2500\u2500\u2500\u2500\u2500\u2500\u2500\u2500\u2500\n",
        "                     \n",
        "                     "
       ]
      }
     ],
     "prompt_number": 24
    },
    {
     "cell_type": "code",
     "collapsed": false,
     "input": [
      "sqrt((g*k+(gam/ro)*k**3)*tanh(k*h))"
     ],
     "language": "python",
     "metadata": {},
     "outputs": [
      {
       "latex": [
        "$$\\sqrt{\\left(g k + \\frac{gam k^{3}}{ro}\\right) \\tanh{\\left (h k \\right )}}$$"
       ],
       "metadata": {},
       "output_type": "pyout",
       "png": "[encoded data removed]",
       "prompt_number": 25,
       "text": [
        "     __________________________\n",
        "    \u2571 \u239b           3\u239e           \n",
        "   \u2571  \u239c      gam\u22c5k \u239f           \n",
        "  \u2571   \u239cg\u22c5k + \u2500\u2500\u2500\u2500\u2500\u2500\u239f\u22c5tanh(h\u22c5k) \n",
        "\u2572\u2571    \u239d        ro  \u23a0           "
       ]
      }
     ],
     "prompt_number": 25
    },
    {
     "cell_type": "code",
     "collapsed": false,
     "input": [],
     "language": "python",
     "metadata": {},
     "outputs": [
      {
       "latex": [
        "$$- \\tanh^{2}{\\left (x \\right )} + 1$$"
       ],
       "metadata": {},
       "output_type": "pyout",
       "png": "[encoded data removed]",
       "prompt_number": 11,
       "text": [
        "      2       \n",
        "- tanh (x) + 1"
       ]
      }
     ],
     "prompt_number": 11
    },
    {
     "cell_type": "code",
     "collapsed": false,
     "input": [],
     "language": "python",
     "metadata": {},
     "outputs": []
    }
   ],
   "metadata": {}
  }
 ]
}