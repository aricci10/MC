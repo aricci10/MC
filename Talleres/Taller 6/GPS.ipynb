{
 "metadata": {
  "name": "",
  "signature": "sha256:3810a42b829075d9b44b0c165dc601fadf73f0afd148ccea88043fdc10c62006"
 },
 "nbformat": 3,
 "nbformat_minor": 0,
 "worksheets": [
  {
   "cells": [
    {
     "cell_type": "code",
     "collapsed": false,
     "input": [
      "%pylab inline\n",
      "from prettytable import PrettyTable"
     ],
     "language": "python",
     "metadata": {},
     "outputs": [
      {
       "output_type": "stream",
       "stream": "stdout",
       "text": [
        "Populating the interactive namespace from numpy and matplotlib\n"
       ]
      },
      {
       "output_type": "stream",
       "stream": "stderr",
       "text": [
        "WARNING: pylab import has clobbered these variables: ['dot']\n",
        "`%matplotlib` prevents importing * from pylab and numpy\n"
       ]
      },
      {
       "ename": "ImportError",
       "evalue": "No module named 'prettytable'",
       "output_type": "pyerr",
       "traceback": [
        "\u001b[0;31m---------------------------------------------------------------------------\u001b[0m\n\u001b[0;31mImportError\u001b[0m                               Traceback (most recent call last)",
        "\u001b[0;32m<ipython-input-87-97b20e2ba804>\u001b[0m in \u001b[0;36m<module>\u001b[0;34m()\u001b[0m\n\u001b[1;32m      1\u001b[0m \u001b[0mget_ipython\u001b[0m\u001b[0;34m(\u001b[0m\u001b[0;34m)\u001b[0m\u001b[0;34m.\u001b[0m\u001b[0mmagic\u001b[0m\u001b[0;34m(\u001b[0m\u001b[0;34m'pylab inline'\u001b[0m\u001b[0;34m)\u001b[0m\u001b[0;34m\u001b[0m\u001b[0m\n\u001b[0;32m----> 2\u001b[0;31m \u001b[0;32mfrom\u001b[0m \u001b[0mprettytable\u001b[0m \u001b[0;32mimport\u001b[0m \u001b[0mPrettyTable\u001b[0m\u001b[0;34m\u001b[0m\u001b[0m\n\u001b[0m",
        "\u001b[0;31mImportError\u001b[0m: No module named 'prettytable'"
       ]
      }
     ],
     "prompt_number": 87
    },
    {
     "cell_type": "code",
     "collapsed": false,
     "input": [
      "#Se importan los datos como una matriz.\n",
      "data=genfromtxt(\"Datos.csv\", delimiter=\",\")\n",
      "#Se establece el radio terrestre.\n",
      "Radio=6371000\n",
      "print(data)"
     ],
     "language": "python",
     "metadata": {},
     "outputs": [
      {
       "output_type": "stream",
       "stream": "stdout",
       "text": [
        "[[  -74.07830811     4.65095949  2604.            11.            21.             4.        ]\n",
        " [  -74.07826233     4.65105486  2594.            11.            21.             6.        ]\n",
        " [  -74.07821655     4.65120363  2572.            11.            21.            14.        ]\n",
        " ..., \n",
        " [  -74.08422852     4.63229609  2585.            13.             0.            16.        ]\n",
        " [  -74.08422852     4.63229609  2585.            13.             0.            18.        ]\n",
        " [  -74.08422852     4.63229609  2585.            13.             0.            19.        ]]\n"
       ]
      }
     ],
     "prompt_number": 59
    },
    {
     "cell_type": "code",
     "collapsed": false,
     "input": [
      "#Se crea una matriz de ceros donde ir'an las coordenadas cartesianas. El formato es es x,y,z,t.\n",
      "dataCart=zeros((1863,4),dtype='float')\n",
      "#Se realiza el cambio de coordenadas.\n",
      "dataCart[:,0]=Radio*sin(radians(90-data[:,1]))*cos(radians(data[:,0]))\n",
      "dataCart[:,1]=Radio*sin(radians(90-data[:,1]))*sin(radians(data[:,0]))\n",
      "dataCart[:,2]=Radio*cos(radians(90-data[:,1]))\n",
      "#Se normalizan el tiempo y el espacio, tal que arranquen en 0,0,0,0\n",
      "dataCart[:,3]=(data[:,3]-11)*3600+(data[:,4]-21)*60+data[:,5]-4\n",
      "dataCart[:,0]-=dataCart[0,0]\n",
      "dataCart[:,1]-=dataCart[0,1]\n",
      "dataCart[:,2]-=dataCart[0,2]\n",
      "print (dataCart)"
     ],
     "language": "python",
     "metadata": {},
     "outputs": [
      {
       "output_type": "stream",
       "stream": "stdout",
       "text": [
        "[[  0.00000000e+00   0.00000000e+00   0.00000000e+00   0.00000000e+00]\n",
        " [  4.64282965e+00   2.21861932e+00   1.05694553e+01   2.00000000e+00]\n",
        " [  9.15355249e+00   4.90032990e+00   2.70578027e+01   1.00000000e+01]\n",
        " ..., \n",
        " [ -5.84936955e+02  -3.41465175e+02  -2.06846991e+03   5.95200000e+03]\n",
        " [ -5.84936955e+02  -3.41465175e+02  -2.06846991e+03   5.95400000e+03]\n",
        " [ -5.84936955e+02  -3.41465175e+02  -2.06846991e+03   5.95500000e+03]]\n"
       ]
      }
     ],
     "prompt_number": 78
    },
    {
     "cell_type": "code",
     "collapsed": false,
     "input": [
      "def dot(x1,y1,z1,x2,y2,z2):\n",
      "    return x1*x2+y1*y2+z1*z2"
     ],
     "language": "python",
     "metadata": {},
     "outputs": [],
     "prompt_number": 79
    },
    {
     "cell_type": "code",
     "collapsed": false,
     "input": [
      "#Se crea una matriz, en donde se colocan las coordenadas oriente-norte de de Bogot\u00e1. El formato es O,N,t\n",
      "dataBogo=zeros((1863,3),dtype='float')\n",
      "dataBogo[:,0]=dot(dataCart[:,0],dataCart[:,1],dataCart[:,2],-sin(radians(-90-74.0758)),cos(radians(-90-74.0758)),0)\n",
      "dataBogo[:,1]=-1*dot(dataCart[:,0],dataCart[:,1],dataCart[:,2],cos(radians(4.5981))*cos(radians(-90-74.0758)),sin(radians(4.5981))*cos(radians(-90-74.0758)),-sin(radians(-90-74.0758)))\n",
      "dataBogo[:,2]=dataCart[:,3]\n",
      "print(dataBogo)"
     ],
     "language": "python",
     "metadata": {},
     "outputs": [
      {
       "output_type": "stream",
       "stream": "stdout",
       "text": [
        "[[  0.00000000e+00  -0.00000000e+00   0.00000000e+00]\n",
        " [ -8.59649100e-01   1.72143357e+00   2.00000000e+00]\n",
        " [ -2.20086411e+00   1.72799899e+00   1.00000000e+01]\n",
        " ..., \n",
        " [  1.67875160e+02  -1.94867563e+01   5.95200000e+03]\n",
        " [  1.67875160e+02  -1.94867563e+01   5.95400000e+03]\n",
        " [  1.67875160e+02  -1.94867563e+01   5.95500000e+03]]\n"
       ]
      }
     ],
     "prompt_number": 86
    },
    {
     "cell_type": "code",
     "collapsed": false,
     "input": [],
     "language": "python",
     "metadata": {},
     "outputs": [],
     "prompt_number": 82
    },
    {
     "cell_type": "code",
     "collapsed": false,
     "input": [],
     "language": "python",
     "metadata": {},
     "outputs": [],
     "prompt_number": 83
    },
    {
     "cell_type": "code",
     "collapsed": false,
     "input": [],
     "language": "python",
     "metadata": {},
     "outputs": []
    }
   ],
   "metadata": {}
  }
 ]
}